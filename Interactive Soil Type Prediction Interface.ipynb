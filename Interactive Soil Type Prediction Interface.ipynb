{
 "cells": [
  {
   "cell_type": "code",
   "execution_count": null,
   "id": "ee07eb86",
   "metadata": {},
   "outputs": [
    {
     "name": "stdout",
     "output_type": "stream",
     "text": [
      "1/1 [==============================] - 0s 197ms/step\n"
     ]
    }
   ],
   "source": [
    "import tkinter as tk\n",
    "from tkinter import filedialog\n",
    "from PIL import Image, ImageTk\n",
    "import tensorflow as tf\n",
    "\n",
    "# Load the saved model\n",
    "model = tf.keras.models.load_model('/home/soukaina/my_model.h5')\n",
    "\n",
    "def predict_soil_type(image_path):\n",
    "    # Load and preprocess the image\n",
    "    img = tf.keras.preprocessing.image.load_img(image_path, target_size=(220, 220))\n",
    "    img_array = tf.keras.preprocessing.image.img_to_array(img)\n",
    "    img_array = img_array / 255.0  # Normalize the image\n",
    "    \n",
    "    # Expand the dimensions to match the model's expected input shape\n",
    "    img_array = tf.expand_dims(img_array, 0)  \n",
    "    \n",
    "    # Predict the class probabilities\n",
    "    predictions = model.predict(img_array)\n",
    "    \n",
    "    # Get the predicted class\n",
    "    predicted_class = tf.argmax(predictions[0]).numpy()\n",
    "    \n",
    "    # Define the class labels\n",
    "    class_labels = ['Black Soil', 'Cinder Soil', 'Laterite Soil', 'Peat Soil', 'Yellow Soil']\n",
    "    \n",
    "    # Return the predicted class label\n",
    "    return class_labels[predicted_class]\n",
    "\n",
    "def choose_image():\n",
    "    file_path = filedialog.askopenfilename()\n",
    "    if file_path:\n",
    "        predicted_class = predict_soil_type(file_path)\n",
    "        label.config(text=f\"The predicted class of the image is: {predicted_class}\")\n",
    "        load = Image.open(file_path)\n",
    "        load.thumbnail((220, 220))\n",
    "        render = ImageTk.PhotoImage(load)\n",
    "        img_label.config(image=render)\n",
    "        img_label.image = render\n",
    "\n",
    "# Create a GUI with improved design\n",
    "root = tk.Tk()\n",
    "root.title(\"Soil Type Prediction\")\n",
    "\n",
    "# Configure the root window style\n",
    "root.geometry(\"800x500\")\n",
    "root.configure(bg=\"#ffffff\")  # Background color\n",
    "\n",
    "# Create a frame for better organization\n",
    "frame = tk.Frame(root, bg=\"#ffffff\", padx=20, pady=20)\n",
    "frame.pack(pady=20)\n",
    "\n",
    "title_label = tk.Label(frame, text=\"Soil Type Prediction\", font=(\"Times New Roman\", 18), bg=\"#ffffff\")\n",
    "title_label.pack()\n",
    "\n",
    "btn = tk.Button(frame, text=\"Choose Image\", command=choose_image, padx=10, pady=5, font=(\"Times New Roman\", 12), bg=\"#008CBA\", fg=\"white\")\n",
    "btn.pack(pady=20)\n",
    "\n",
    "img_label = tk.Label(frame, bg=\"#ffffff\")\n",
    "img_label.pack()\n",
    "\n",
    "label = tk.Label(frame, text=\"\", font=(\"Times New Roman\", 14), bg=\"#ffffff\")\n",
    "label.pack(pady=10)\n",
    "\n",
    "root.mainloop()"
   ]
  },
  {
   "cell_type": "code",
   "execution_count": null,
   "id": "01cf88ff",
   "metadata": {},
   "outputs": [],
   "source": []
  }
 ],
 "metadata": {
  "kernelspec": {
   "display_name": "Python 3 (ipykernel)",
   "language": "python",
   "name": "python3"
  },
  "language_info": {
   "codemirror_mode": {
    "name": "ipython",
    "version": 3
   },
   "file_extension": ".py",
   "mimetype": "text/x-python",
   "name": "python",
   "nbconvert_exporter": "python",
   "pygments_lexer": "ipython3",
   "version": "3.8.10"
  }
 },
 "nbformat": 4,
 "nbformat_minor": 5
}
